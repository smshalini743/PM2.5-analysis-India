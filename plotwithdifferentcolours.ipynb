{
 "cells": [
  {
   "cell_type": "code",
   "execution_count": 2,
   "metadata": {},
   "outputs": [],
   "source": [
    "import pandas as pd \n",
    "import numpy as np\n",
    "import matplotlib.pyplot as plt\n",
    "plt.rcParams[\"figure.figsize\"] = (20,10)\n",
    "\n",
    "df2 = pd.read_csv(\"onegraph.csv\")\n",
    "\n",
    "first_column = df2.iloc[:,0]\n",
    "#print(first_column)"
   ]
  },
  {
   "cell_type": "code",
   "execution_count": null,
   "metadata": {},
   "outputs": [],
   "source": [
    "import pandas as pd\n",
    "import numpy as np\n",
    "import matplotlib.pyplot as plt"
   ]
  },
  {
   "cell_type": "code",
   "execution_count": 5,
   "metadata": {},
   "outputs": [
    {
     "name": "stdout",
     "output_type": "stream",
     "text": [
      "2/27/2021 5:30\n"
     ]
    }
   ],
   "source": [
    "#print(df2.iloc[0,0])"
   ]
  },
  {
   "cell_type": "code",
   "execution_count": 13,
   "metadata": {},
   "outputs": [
    {
     "name": "stdout",
     "output_type": "stream",
     "text": [
      "0    2/27/2021 5:30\n",
      "Name: IST, dtype: object\n"
     ]
    }
   ],
   "source": [
    "xyz = first_column.iloc[:1]\n",
    "#print(xyz)"
   ]
  },
  {
   "cell_type": "code",
   "execution_count": 17,
   "metadata": {},
   "outputs": [
    {
     "name": "stdout",
     "output_type": "stream",
     "text": [
      "0    5\n",
      "Name: IST, dtype: object\n"
     ]
    }
   ],
   "source": [
    "abc = xyz.str[10]\n",
    "#print(abc)"
   ]
  },
  {
   "cell_type": "code",
   "execution_count": 24,
   "metadata": {},
   "outputs": [
    {
     "name": "stdout",
     "output_type": "stream",
     "text": [
      "583\n"
     ]
    }
   ],
   "source": [
    "length1 = len(df2)\n",
    "#print(length1)"
   ]
  },
  {
   "cell_type": "code",
   "execution_count": 57,
   "metadata": {},
   "outputs": [
    {
     "name": "stdout",
     "output_type": "stream",
     "text": [
      "Estimated coefficients:\n",
      "b_0 = 25.21140136747728     \n",
      "b_1 = 1.0997919570249306\n"
     ]
    },
    {
     "data": {
      "image/png": "[encoded data removed]",
      "text/plain": [
       "<Figure size 1440x720 with 1 Axes>"
      ]
     },
     "metadata": {
      "needs_background": "light"
     },
     "output_type": "display_data"
    }
   ],
   "source": [
    "independent = df2.iloc[:,2]\n",
    "dependent = df2.iloc[:,1]\n",
    "\n",
    "def estimate_coefficient(x,y):\n",
    "    n = np.size(x)\n",
    "    \n",
    "    m_x = np.mean(x)\n",
    "    m_y = np.mean(y)\n",
    "    \n",
    "    SS_xy = np.sum(y*x) - n*m_y*m_x\n",
    "    SS_xx = np.sum(x*x) - n*m_x*m_x\n",
    "    \n",
    "    b_1 = SS_xy / SS_xx\n",
    "    b_0 = m_y - b_1*m_x\n",
    "    \n",
    "    return(b_0, b_1)\n",
    "\n",
    "col = []\n",
    "\n",
    "for i in range(0, len(df2)):\n",
    "    dat = str(df2.iat[i, 0])\n",
    "    point1 = dat.find(\" \")\n",
    "    point2 = dat.find(\":\")\n",
    "    num = int(dat[point1+1:point2])\n",
    "    \n",
    "    if num >= 5 and num <= 9:\n",
    "        col.append('blue')\n",
    "    if num >= 10 and num <= 19:\n",
    "        col.append('red')\n",
    "    if num >= 20 and num <= 23:\n",
    "        col.append('yellow')\n",
    "    if num >= 0 and num <= 4:\n",
    "        col.append('yellow')\n",
    "        \n",
    "    \n",
    "def plot_regression_line1(x, y, b):\n",
    "    \n",
    "    for i in range(0, len(df2)):\n",
    "        dat = str(df2.iat[i, 0])\n",
    "        point1 = dat.find(\" \")\n",
    "        point2 = dat.find(\":\")\n",
    "        num = int(dat[point1+1:point2])\n",
    "        \n",
    "        if num >= 5 and num <= 9:\n",
    "            col.append('blue')\n",
    "        \n",
    "        if num >= 10 and num <= 19:\n",
    "            col.append('red')\n",
    "        \n",
    "        if num >= 20 and num <= 23:\n",
    "            col.append('yellow')\n",
    "        \n",
    "        if num >= 0 and num <= 4:\n",
    "            col.append('yellow')\n",
    "    \n",
    "    plt.scatter(x[i], y[i], c = col[i],\n",
    "                s = 40) \n",
    "    \n",
    "    y_pred = b[0] + b[1]*x\n",
    "    plt.plot(x, y_pred, color = \"g\")\n",
    "    \n",
    "    plt.xlabel('x')\n",
    "    plt.ylabel('y')\n",
    "    \n",
    "    plt.show()\n",
    "\n",
    "\n",
    "def main():\n",
    "    # observations / data\n",
    "    x = independent\n",
    "    y = dependent\n",
    "    \n",
    "    # estimating coefficients\n",
    "    b = estimate_coefficient(x, y)\n",
    "    print(\"Estimated coefficients:\\nb_0 = {} \\\n",
    "    \\nb_1 = {}\".format(b[0], b[1]))\n",
    "    \n",
    "    #plotting regression line\n",
    "    plot_regression_line1(x, y, b)\n",
    "\n",
    "if __name__ == \"__main__\":\n",
    "        main()\n",
    "\n",
    "    \n",
    "    "
   ]
  },
  {
   "cell_type": "code",
   "execution_count": null,
   "metadata": {},
   "outputs": [],
   "source": []
  },
  {
   "cell_type": "code",
   "execution_count": null,
   "metadata": {},
   "outputs": [],
   "source": []
  }
 ],
 "metadata": {
  "kernelspec": {
   "display_name": "Python 3",
   "language": "python",
   "name": "python3"
  },
  "language_info": {
   "codemirror_mode": {
    "name": "ipython",
    "version": 3
   },
   "file_extension": ".py",
   "mimetype": "text/x-python",
   "name": "python",
   "nbconvert_exporter": "python",
   "pygments_lexer": "ipython3",
   "version": "3.8.5"
  }
 },
 "nbformat": 4,
 "nbformat_minor": 4
}
